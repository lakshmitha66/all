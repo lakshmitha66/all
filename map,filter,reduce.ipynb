{
 "cells": [
  {
   "cell_type": "code",
   "execution_count": 23,
   "id": "798bba7f",
   "metadata": {},
   "outputs": [
    {
     "data": {
      "text/plain": [
       "[2, 4, 6, 8, 10, 12, 14]"
      ]
     },
     "execution_count": 23,
     "metadata": {},
     "output_type": "execute_result"
    }
   ],
   "source": [
    "# MAP\n",
    "L=[1,2,3,4,5,6,7]\n",
    "list(map(lambda x: x*2,L))\n"
   ]
  },
  {
   "cell_type": "code",
   "execution_count": 24,
   "id": "c2ae6840",
   "metadata": {},
   "outputs": [
    {
     "data": {
      "text/plain": [
       "[False, True, False, True, False, True, False]"
      ]
     },
     "execution_count": 24,
     "metadata": {},
     "output_type": "execute_result"
    }
   ],
   "source": [
    "list(map(lambda x: x%2==0,L))"
   ]
  },
  {
   "cell_type": "code",
   "execution_count": 25,
   "id": "adefb0ba",
   "metadata": {},
   "outputs": [
    {
     "data": {
      "text/plain": [
       "True"
      ]
     },
     "execution_count": 25,
     "metadata": {},
     "output_type": "execute_result"
    }
   ],
   "source": [
    "b = lambda x: x[0] == 'B'\n",
    "b('apple')"
   ]
  },
  {
   "cell_type": "code",
   "execution_count": 26,
   "id": "e6b53d62",
   "metadata": {},
   "outputs": [
    {
     "data": {
      "text/plain": [
       "False"
      ]
     },
     "execution_count": 26,
     "metadata": {},
     "output_type": "execute_result"
    }
   ],
   "source": [
    "b('banana')"
   ]
  },
  {
   "cell_type": "code",
   "execution_count": 29,
   "id": "cad4a956",
   "metadata": {},
   "outputs": [],
   "source": [
    "students = [\n",
    "{\n",
    "    \"name\": \"Jacob Martin\",\n",
    "    \"father name\" : \"Ros Martin\",\n",
    "    \"Address\": \"123 Hill Street\",\n",
    "},{\n",
    "    \"name\": \"Angela Stevens\",\n",
    "    \"father name\": \"Robert Stevens\",\n",
    "    \"Address\": \"3 Upper Street London\",\n",
    "},{\n",
    "    \"name\": \"Ricky Smart\",\n",
    "    \"father name\" : \"William Smart\",\n",
    "    \"Address\": \"Unknown\",\n",
    "}\n",
    "]"
   ]
  },
  {
   "cell_type": "code",
   "execution_count": 30,
   "id": "67642eb7",
   "metadata": {},
   "outputs": [
    {
     "data": {
      "text/plain": [
       "[{'name': 'Jacob Martin',\n",
       "  'father name': 'Ros Martin',\n",
       "  'Address': '123 Hill Street'},\n",
       " {'name': 'Angela Stevens',\n",
       "  'father name': 'Robert Stevens',\n",
       "  'Address': '3 Upper Street London'},\n",
       " {'name': 'Ricky Smart', 'father name': 'William Smart', 'Address': 'Unknown'}]"
      ]
     },
     "execution_count": 30,
     "metadata": {},
     "output_type": "execute_result"
    }
   ],
   "source": [
    "students"
   ]
  },
  {
   "cell_type": "code",
   "execution_count": 31,
   "id": "250bee78",
   "metadata": {},
   "outputs": [
    {
     "data": {
      "text/plain": [
       "['Jacob Martin', 'Angela Stevens', 'Ricky Smart']"
      ]
     },
     "execution_count": 31,
     "metadata": {},
     "output_type": "execute_result"
    }
   ],
   "source": [
    "list(map(lambda student: student['name'],students))"
   ]
  },
  {
   "cell_type": "code",
   "execution_count": 32,
   "id": "a99d08dc",
   "metadata": {},
   "outputs": [
    {
     "data": {
      "text/plain": [
       "[1, 2, 3, 4, 5, 6, 7]"
      ]
     },
     "execution_count": 32,
     "metadata": {},
     "output_type": "execute_result"
    }
   ],
   "source": [
    "L"
   ]
  },
  {
   "cell_type": "code",
   "execution_count": 33,
   "id": "3e2e2a0d",
   "metadata": {},
   "outputs": [
    {
     "data": {
      "text/plain": [
       "[5, 6, 7]"
      ]
     },
     "execution_count": 33,
     "metadata": {},
     "output_type": "execute_result"
    }
   ],
   "source": [
    "#FILTER\n",
    "\n",
    "list(filter(lambda x: x>4, L))"
   ]
  },
  {
   "cell_type": "code",
   "execution_count": 36,
   "id": "aa1f9597",
   "metadata": {},
   "outputs": [],
   "source": [
    "fruits=['apple','orange','mango','papaya']"
   ]
  },
  {
   "cell_type": "code",
   "execution_count": 39,
   "id": "abcd7c06",
   "metadata": {},
   "outputs": [
    {
     "data": {
      "text/plain": [
       "['apple', 'orange', 'mango', 'papaya']"
      ]
     },
     "execution_count": 39,
     "metadata": {},
     "output_type": "execute_result"
    }
   ],
   "source": [
    "fruits"
   ]
  },
  {
   "cell_type": "code",
   "execution_count": 41,
   "id": "47138357",
   "metadata": {},
   "outputs": [
    {
     "data": {
      "text/plain": [
       "['apple', 'orange']"
      ]
     },
     "execution_count": 41,
     "metadata": {},
     "output_type": "execute_result"
    }
   ],
   "source": [
    "list(filter(lambda fruit: 'e' in fruit , fruits))"
   ]
  },
  {
   "cell_type": "code",
   "execution_count": 42,
   "id": "95802cc6",
   "metadata": {},
   "outputs": [],
   "source": [
    "#reduce\n",
    "\n",
    "import functools"
   ]
  },
  {
   "cell_type": "code",
   "execution_count": 47,
   "id": "779634de",
   "metadata": {},
   "outputs": [
    {
     "data": {
      "text/plain": [
       "[1, 2, 3, 4, 5, 6, 7]"
      ]
     },
     "execution_count": 47,
     "metadata": {},
     "output_type": "execute_result"
    }
   ],
   "source": [
    "L"
   ]
  },
  {
   "cell_type": "code",
   "execution_count": 49,
   "id": "83f0df5d",
   "metadata": {},
   "outputs": [
    {
     "data": {
      "text/plain": [
       "28"
      ]
     },
     "execution_count": 49,
     "metadata": {},
     "output_type": "execute_result"
    }
   ],
   "source": [
    "functools.reduce(lambda x,y: x+y,L)"
   ]
  },
  {
   "cell_type": "code",
   "execution_count": 50,
   "id": "03a5de96",
   "metadata": {},
   "outputs": [],
   "source": [
    "L1=[12,34,34,24,21,44]"
   ]
  },
  {
   "cell_type": "code",
   "execution_count": 51,
   "id": "7633ea12",
   "metadata": {},
   "outputs": [
    {
     "data": {
      "text/plain": [
       "[12, 34, 34, 24, 21, 44]"
      ]
     },
     "execution_count": 51,
     "metadata": {},
     "output_type": "execute_result"
    }
   ],
   "source": [
    "L1"
   ]
  },
  {
   "cell_type": "code",
   "execution_count": 52,
   "id": "6a4d093f",
   "metadata": {},
   "outputs": [
    {
     "data": {
      "text/plain": [
       "44"
      ]
     },
     "execution_count": 52,
     "metadata": {},
     "output_type": "execute_result"
    }
   ],
   "source": [
    "functools.reduce(lambda x,y: x if x>y else y,L1)"
   ]
  },
  {
   "cell_type": "code",
   "execution_count": 53,
   "id": "a3a9cf4f",
   "metadata": {},
   "outputs": [
    {
     "data": {
      "text/plain": [
       "12"
      ]
     },
     "execution_count": 53,
     "metadata": {},
     "output_type": "execute_result"
    }
   ],
   "source": [
    "functools.reduce(lambda x,y: x if x<y else y,L1)"
   ]
  },
  {
   "cell_type": "code",
   "execution_count": null,
   "id": "94c7c7e7",
   "metadata": {},
   "outputs": [],
   "source": []
  }
 ],
 "metadata": {
  "kernelspec": {
   "display_name": "Python 3 (ipykernel)",
   "language": "python",
   "name": "python3"
  },
  "language_info": {
   "codemirror_mode": {
    "name": "ipython",
    "version": 3
   },
   "file_extension": ".py",
   "mimetype": "text/x-python",
   "name": "python",
   "nbconvert_exporter": "python",
   "pygments_lexer": "ipython3",
   "version": "3.9.13"
  }
 },
 "nbformat": 4,
 "nbformat_minor": 5
}
