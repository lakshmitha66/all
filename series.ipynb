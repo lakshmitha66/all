{
 "cells": [
  {
   "cell_type": "code",
   "execution_count": 2,
   "id": "626cd5b1",
   "metadata": {},
   "outputs": [],
   "source": [
    "# import the modules\n",
    "import pandas as pd\n",
    "import numpy as np\n"
   ]
  },
  {
   "cell_type": "code",
   "execution_count": 3,
   "id": "5edc9edf",
   "metadata": {},
   "outputs": [],
   "source": [
    "# create the series\n",
    "ser1 = pd.Series([1, 2, 3, 4, 5])\n",
    "ser2 = pd.Series([4, 5, 6, 7, 8])\n"
   ]
  },
  {
   "cell_type": "code",
   "execution_count": 8,
   "id": "9ef49093",
   "metadata": {},
   "outputs": [
    {
     "name": "stdout",
     "output_type": "stream",
     "text": [
      "0    1\n",
      "1    2\n",
      "2    3\n",
      "3    4\n",
      "4    5\n",
      "5    6\n",
      "6    7\n",
      "7    8\n",
      "dtype: int64\n"
     ]
    }
   ],
   "source": [
    "# union of the series\n",
    "union = pd.Series(np.union1d(ser1, ser2))\n",
    "print(union)\n"
   ]
  },
  {
   "cell_type": "code",
   "execution_count": 9,
   "id": "f1a3e4c0",
   "metadata": {},
   "outputs": [
    {
     "name": "stdout",
     "output_type": "stream",
     "text": [
      "0    4\n",
      "1    5\n",
      "dtype: int64\n"
     ]
    }
   ],
   "source": [
    "# intersection of the series\n",
    "intersect = pd.Series(np.intersect1d(ser1, ser2))\n",
    "print(intersect)\n",
    "\n"
   ]
  },
  {
   "cell_type": "code",
   "execution_count": 10,
   "id": "a002cdb3",
   "metadata": {},
   "outputs": [],
   "source": [
    "# uncommon elements in both the series\n",
    "notcommonseries = union[~union.isin(intersect)]\n",
    "\n"
   ]
  },
  {
   "cell_type": "code",
   "execution_count": 11,
   "id": "0ceab6ae",
   "metadata": {},
   "outputs": [
    {
     "data": {
      "text/plain": [
       "0    1\n",
       "1    2\n",
       "2    3\n",
       "3    4\n",
       "4    5\n",
       "5    6\n",
       "6    7\n",
       "7    8\n",
       "dtype: int64"
      ]
     },
     "execution_count": 11,
     "metadata": {},
     "output_type": "execute_result"
    }
   ],
   "source": [
    "union"
   ]
  },
  {
   "cell_type": "code",
   "execution_count": 7,
   "id": "6e632469",
   "metadata": {},
   "outputs": [
    {
     "data": {
      "text/plain": [
       "0   -2\n",
       "1   -3\n",
       "2   -4\n",
       "3   -5\n",
       "4   -6\n",
       "5   -7\n",
       "6   -8\n",
       "7   -9\n",
       "dtype: int64"
      ]
     },
     "execution_count": 7,
     "metadata": {},
     "output_type": "execute_result"
    }
   ],
   "source": [
    "~union"
   ]
  },
  {
   "cell_type": "code",
   "execution_count": 9,
   "id": "1386cd74",
   "metadata": {},
   "outputs": [
    {
     "name": "stdout",
     "output_type": "stream",
     "text": [
      "0    1\n",
      "1    2\n",
      "2    3\n",
      "5    6\n",
      "6    7\n",
      "7    8\n",
      "dtype: int64\n"
     ]
    }
   ],
   "source": [
    "# displaying the result\n",
    "print(notcommonseries)\n"
   ]
  },
  {
   "cell_type": "code",
   "execution_count": 11,
   "id": "b14b2f52",
   "metadata": {},
   "outputs": [
    {
     "ename": "SyntaxError",
     "evalue": "unexpected EOF while parsing (1541704651.py, line 12)",
     "output_type": "error",
     "traceback": [
      "\u001b[1;36m  File \u001b[1;32m\"C:\\Users\\laksh\\AppData\\Local\\Temp\\ipykernel_4620\\1541704651.py\"\u001b[1;36m, line \u001b[1;32m12\u001b[0m\n\u001b[1;33m    \u001b[0m\n\u001b[1;37m    ^\u001b[0m\n\u001b[1;31mSyntaxError\u001b[0m\u001b[1;31m:\u001b[0m unexpected EOF while parsing\n"
     ]
    }
   ],
   "source": [
    "# Import pandas library\n",
    "import pandas as pd\n",
    "\n",
    "# initialize list of lists\n",
    "data = {'Aryan'[ 'Singh','Full time employee','Administration',2,20000], \n",
    "        {'Rohan'[ 'Agarwal',' Intern','Technical',3,5000],\n",
    "        {'Riya' ['Shah','Full time employee','Administration',5,10000],\n",
    "        {'Yash' ['Bhatia','Part time employee','Technical',7,10000],\n",
    "        {'Siddhant'[ 'Khanna','Full time employee','management',6,20000]]}\n",
    "\n",
    "# Create the pandas DataFrame\n",
    "df = pd.DataFrame(data, columns=['First Name','Last Name', 'Type','Department', 'YoE','Salary'])\n",
    "\n",
    "# print dataframe.\n",
    "print(df)"
   ]
  },
  {
   "cell_type": "code",
   "execution_count": null,
   "id": "b89c9b6e",
   "metadata": {},
   "outputs": [],
   "source": []
  }
 ],
 "metadata": {
  "kernelspec": {
   "display_name": "Python 3 (ipykernel)",
   "language": "python",
   "name": "python3"
  },
  "language_info": {
   "codemirror_mode": {
    "name": "ipython",
    "version": 3
   },
   "file_extension": ".py",
   "mimetype": "text/x-python",
   "name": "python",
   "nbconvert_exporter": "python",
   "pygments_lexer": "ipython3",
   "version": "3.9.13"
  }
 },
 "nbformat": 4,
 "nbformat_minor": 5
}
