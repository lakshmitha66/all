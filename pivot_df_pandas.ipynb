{
 "cells": [
  {
   "cell_type": "code",
   "execution_count": 2,
   "id": "c3577e70",
   "metadata": {
    "scrolled": false
   },
   "outputs": [
    {
     "data": {
      "text/html": [
       "<div>\n",
       "<style scoped>\n",
       "    .dataframe tbody tr th:only-of-type {\n",
       "        vertical-align: middle;\n",
       "    }\n",
       "\n",
       "    .dataframe tbody tr th {\n",
       "        vertical-align: top;\n",
       "    }\n",
       "\n",
       "    .dataframe thead th {\n",
       "        text-align: right;\n",
       "    }\n",
       "</style>\n",
       "<table border=\"1\" class=\"dataframe\">\n",
       "  <thead>\n",
       "    <tr style=\"text-align: right;\">\n",
       "      <th></th>\n",
       "      <th>name</th>\n",
       "      <th>date</th>\n",
       "      <th>sales</th>\n",
       "    </tr>\n",
       "  </thead>\n",
       "  <tbody>\n",
       "    <tr>\n",
       "      <th>0</th>\n",
       "      <td>Dan</td>\n",
       "      <td>14 -6 -2021</td>\n",
       "      <td>11</td>\n",
       "    </tr>\n",
       "    <tr>\n",
       "      <th>1</th>\n",
       "      <td>Harris</td>\n",
       "      <td>14-6-2021</td>\n",
       "      <td>37</td>\n",
       "    </tr>\n",
       "    <tr>\n",
       "      <th>2</th>\n",
       "      <td>Joe</td>\n",
       "      <td>14-6-2021</td>\n",
       "      <td>85</td>\n",
       "    </tr>\n",
       "    <tr>\n",
       "      <th>3</th>\n",
       "      <td>John</td>\n",
       "      <td>14-6-2021</td>\n",
       "      <td>63</td>\n",
       "    </tr>\n",
       "    <tr>\n",
       "      <th>4</th>\n",
       "      <td>Dan</td>\n",
       "      <td>14-6-2021</td>\n",
       "      <td>16</td>\n",
       "    </tr>\n",
       "    <tr>\n",
       "      <th>5</th>\n",
       "      <td>Harris</td>\n",
       "      <td>13-6-2021</td>\n",
       "      <td>73</td>\n",
       "    </tr>\n",
       "    <tr>\n",
       "      <th>6</th>\n",
       "      <td>Joe</td>\n",
       "      <td>13-6-2021</td>\n",
       "      <td>20</td>\n",
       "    </tr>\n",
       "    <tr>\n",
       "      <th>7</th>\n",
       "      <td>John</td>\n",
       "      <td>13-6-2021</td>\n",
       "      <td>73</td>\n",
       "    </tr>\n",
       "    <tr>\n",
       "      <th>8</th>\n",
       "      <td>Dan</td>\n",
       "      <td>12-6-2021</td>\n",
       "      <td>68</td>\n",
       "    </tr>\n",
       "    <tr>\n",
       "      <th>9</th>\n",
       "      <td>Harris</td>\n",
       "      <td>12-6-2021</td>\n",
       "      <td>33</td>\n",
       "    </tr>\n",
       "    <tr>\n",
       "      <th>10</th>\n",
       "      <td>Joe</td>\n",
       "      <td>12-6-2022</td>\n",
       "      <td>62</td>\n",
       "    </tr>\n",
       "    <tr>\n",
       "      <th>11</th>\n",
       "      <td>John</td>\n",
       "      <td>12-6-2021</td>\n",
       "      <td>31</td>\n",
       "    </tr>\n",
       "  </tbody>\n",
       "</table>\n",
       "</div>"
      ],
      "text/plain": [
       "       name         date  sales\n",
       "0      Dan   14 -6 -2021     11\n",
       "1    Harris    14-6-2021     37\n",
       "2      Joe     14-6-2021     85\n",
       "3      John    14-6-2021     63\n",
       "4      Dan     14-6-2021     16\n",
       "5    Harris    13-6-2021     73\n",
       "6      Joe     13-6-2021     20\n",
       "7     John     13-6-2021     73\n",
       "8      Dan     12-6-2021     68\n",
       "9   Harris     12-6-2021     33\n",
       "10     Joe     12-6-2022     62\n",
       "11    John    12-6-2021      31"
      ]
     },
     "execution_count": 2,
     "metadata": {},
     "output_type": "execute_result"
    }
   ],
   "source": [
    "import pandas as pd\n",
    "import datetime as dt\n",
    "pivot_data = [{'name': ' Dan ', 'date': '14 -6 -2021', 'sales': 11},\n",
    "        {'name': 'Harris', 'date': '14-6-2021', 'sales':37 },\n",
    "        {'name': 'Joe ', 'date': '14-6-2021', 'sales': 85},\n",
    "        {'name': 'John', 'date':'14-6-2021' , 'sales':63 },\n",
    "        {'name': 'Dan ', 'date':' 14-6-2021', 'sales': 16},\n",
    "        {'name': 'Harris', 'date':'13-6-2021' , 'sales':73},\n",
    "        {'name': 'Joe ', 'date':'13-6-2021', 'sales':20 },\n",
    "        {'name': 'John ', 'date':'13-6-2021' , 'sales':73},\n",
    "        {'name': 'Dan ', 'date':'12-6-2021', 'sales':68},\n",
    "        {'name': 'Harris ', 'date':'12-6-2021', 'sales':33},\n",
    "        {'name': 'Joe ', 'date':' 12-6-2022', 'sales': 62},\n",
    "        {'name': 'John ', 'date':'12-6-2021 ', 'sales':31 },\n",
    "            ]\n",
    "df = pd.DataFrame(pivot_data)\n",
    "df"
   ]
  },
  {
   "cell_type": "code",
   "execution_count": 3,
   "id": "20f0e92b",
   "metadata": {},
   "outputs": [
    {
     "name": "stdout",
     "output_type": "stream",
     "text": [
      "       name         date  sales\n",
      "0      Dan   14 -6 -2021     11\n",
      "1    Harris    14-6-2021     37\n",
      "2      Joe     14-6-2021     85\n",
      "3      John    14-6-2021     63\n",
      "4      Dan     14-6-2021     16\n",
      "5    Harris    13-6-2021     73\n",
      "6      Joe     13-6-2021     20\n",
      "7     John     13-6-2021     73\n",
      "8      Dan     12-6-2021     68\n",
      "9   Harris     12-6-2021     33\n",
      "10     Joe     12-6-2022     62\n",
      "11    John    12-6-2021      31\n"
     ]
    }
   ],
   "source": [
    "df = pd.DataFrame(pivot_data)\n",
    "print(df)\n"
   ]
  },
  {
   "cell_type": "code",
   "execution_count": 4,
   "id": "75900825",
   "metadata": {},
   "outputs": [
    {
     "name": "stdout",
     "output_type": "stream",
     "text": [
      "date      12-6-2022   14-6-2021  12-6-2021  12-6-2021   13-6-2021  \\\n",
      "name                                                                \n",
      " Dan            NaN         NaN        NaN         NaN        NaN   \n",
      "Dan             NaN        16.0       68.0         NaN        NaN   \n",
      "Harris          NaN         NaN        NaN         NaN       73.0   \n",
      "Harris          NaN         NaN       33.0         NaN        NaN   \n",
      "Joe            62.0         NaN        NaN         NaN       20.0   \n",
      "John            NaN         NaN        NaN         NaN        NaN   \n",
      "John            NaN         NaN        NaN        31.0       73.0   \n",
      "\n",
      "date     14 -6 -2021  14-6-2021  \n",
      "name                             \n",
      " Dan            11.0        NaN  \n",
      "Dan              NaN        NaN  \n",
      "Harris           NaN       37.0  \n",
      "Harris           NaN        NaN  \n",
      "Joe              NaN       85.0  \n",
      "John             NaN       63.0  \n",
      "John             NaN        NaN  \n"
     ]
    }
   ],
   "source": [
    "df1=df.pivot(index=\"name\", columns=\"date\", values=\"sales\")\n",
    "print(df1)"
   ]
  },
  {
   "cell_type": "code",
   "execution_count": 5,
   "id": "aad29921",
   "metadata": {},
   "outputs": [
    {
     "data": {
      "text/html": [
       "<div>\n",
       "<style scoped>\n",
       "    .dataframe tbody tr th:only-of-type {\n",
       "        vertical-align: middle;\n",
       "    }\n",
       "\n",
       "    .dataframe tbody tr th {\n",
       "        vertical-align: top;\n",
       "    }\n",
       "\n",
       "    .dataframe thead th {\n",
       "        text-align: right;\n",
       "    }\n",
       "</style>\n",
       "<table border=\"1\" class=\"dataframe\">\n",
       "  <thead>\n",
       "    <tr style=\"text-align: right;\">\n",
       "      <th></th>\n",
       "      <th>Name</th>\n",
       "      <th>date</th>\n",
       "      <th>sales</th>\n",
       "    </tr>\n",
       "  </thead>\n",
       "  <tbody>\n",
       "    <tr>\n",
       "      <th>0</th>\n",
       "      <td>John</td>\n",
       "      <td>14 -6 -2021</td>\n",
       "      <td>11</td>\n",
       "    </tr>\n",
       "    <tr>\n",
       "      <th>1</th>\n",
       "      <td>Harris</td>\n",
       "      <td>14-6-2021</td>\n",
       "      <td>37</td>\n",
       "    </tr>\n",
       "    <tr>\n",
       "      <th>2</th>\n",
       "      <td>sev</td>\n",
       "      <td>14-6-2021</td>\n",
       "      <td>85</td>\n",
       "    </tr>\n",
       "    <tr>\n",
       "      <th>3</th>\n",
       "      <td>Joe</td>\n",
       "      <td>14-6-2021</td>\n",
       "      <td>63</td>\n",
       "    </tr>\n",
       "  </tbody>\n",
       "</table>\n",
       "</div>"
      ],
      "text/plain": [
       "     Name         date  sales\n",
       "0    John  14 -6 -2021     11\n",
       "1  Harris    14-6-2021     37\n",
       "2     sev    14-6-2021     85\n",
       "3     Joe    14-6-2021     63"
      ]
     },
     "execution_count": 5,
     "metadata": {},
     "output_type": "execute_result"
    }
   ],
   "source": [
    "import pandas as pd\n",
    "import datetime as dt\n",
    "pivot_data = [{'Name': 'John', 'date': '14 -6 -2021', 'sales': 11},\n",
    "        {'Name': 'Harris', 'date': '14-6-2021', 'sales':37 },\n",
    "        {'Name': 'sev', 'date': '14-6-2021', 'sales': 85},\n",
    "        {'Name': 'Joe', 'date':'14-6-2021' , 'sales':63 }\n",
    "            ]\n",
    "df4 = pd.DataFrame(pivot_data)\n",
    "df4"
   ]
  },
  {
   "cell_type": "code",
   "execution_count": 7,
   "id": "8e6d0414",
   "metadata": {},
   "outputs": [
    {
     "name": "stdout",
     "output_type": "stream",
     "text": [
      "     Name variable        value\n",
      "0    John     date  14 -6 -2021\n",
      "1  Harris     date    14-6-2021\n",
      "2     sev     date    14-6-2021\n",
      "3     Joe     date    14-6-2021\n",
      "4    John    sales           11\n",
      "5  Harris    sales           37\n",
      "6     sev    sales           85\n",
      "7     Joe    sales           63\n"
     ]
    }
   ],
   "source": [
    "df5 = df4.melt(id_vars=[\"Name\"])\n",
    "print(df5)"
   ]
  },
  {
   "cell_type": "code",
   "execution_count": null,
   "id": "88c9b6e4",
   "metadata": {},
   "outputs": [],
   "source": []
  },
  {
   "cell_type": "code",
   "execution_count": null,
   "id": "5f67c5e9",
   "metadata": {},
   "outputs": [],
   "source": []
  }
 ],
 "metadata": {
  "kernelspec": {
   "display_name": "Python 3 (ipykernel)",
   "language": "python",
   "name": "python3"
  },
  "language_info": {
   "codemirror_mode": {
    "name": "ipython",
    "version": 3
   },
   "file_extension": ".py",
   "mimetype": "text/x-python",
   "name": "python",
   "nbconvert_exporter": "python",
   "pygments_lexer": "ipython3",
   "version": "3.9.13"
  }
 },
 "nbformat": 4,
 "nbformat_minor": 5
}
